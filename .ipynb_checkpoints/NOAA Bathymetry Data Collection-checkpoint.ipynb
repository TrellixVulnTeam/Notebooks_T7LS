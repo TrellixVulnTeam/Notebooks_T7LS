{
 "cells": [
  {
   "cell_type": "code",
   "execution_count": 1,
   "metadata": {},
   "outputs": [],
   "source": [
    "# Collect all bathymetry data download URLS from the NCEI website"
   ]
  },
  {
   "cell_type": "code",
   "execution_count": 151,
   "metadata": {},
   "outputs": [],
   "source": [
    "import requests\n",
    "from requests_html import HTMLSession\n",
    "import pandas as pd\n",
    "from html.parser import HTMLParser\n",
    "import os.path\n",
    "import re\n",
    "import random"
   ]
  },
  {
   "cell_type": "code",
   "execution_count": 71,
   "metadata": {
    "scrolled": true
   },
   "outputs": [
    {
     "name": "stdout",
     "output_type": "stream",
     "text": [
      "18437 indices found\n"
     ]
    }
   ],
   "source": [
    "# Collect and retrieve all of the urls for the various MB voyage indices\n",
    "base = r'https://www.ngdc.noaa.gov/ships/'\n",
    "session = HTMLSession()\n",
    "b = session.get(base)\n",
    "ships = [session.get(u) for u in b.html.absolute_links]\n",
    "all_voyage_index_links = [l for c in ships for l in c.html.absolute_links ] \n",
    "print('%s indices found' % len(all_index_links))"
   ]
  },
  {
   "cell_type": "code",
   "execution_count": 72,
   "metadata": {},
   "outputs": [
    {
     "name": "stdout",
     "output_type": "stream",
     "text": [
      "18437 indices found\n"
     ]
    }
   ],
   "source": [
    "# Collect and retrieve all of the urls for the various bag voyage indices\n",
    "base = r'https://www.ngdc.noaa.gov/nos/'\n",
    "session = HTMLSession()\n",
    "b = session.get(base)\n",
    "ships = [session.get(u) for u in b.html.absolute_links]\n",
    "all_nos_index_links = [l for c in ships for l in c.html.absolute_links ] \n",
    "print('%s indices found' % len(all_index_links))"
   ]
  },
  {
   "cell_type": "code",
   "execution_count": 73,
   "metadata": {},
   "outputs": [],
   "source": [
    "all_index_links = all_voyage_index_links + all_nos_index_links"
   ]
  },
  {
   "cell_type": "code",
   "execution_count": 74,
   "metadata": {},
   "outputs": [
    {
     "name": "stdout",
     "output_type": "stream",
     "text": [
      "255 surveys found\n"
     ]
    }
   ],
   "source": [
    "# Collect the surveys listed by the bathymetric data viewer\n",
    "fp = r'C:\\Users\\tristan.sebens\\Documents\\surveys\\survey_names.txt'\n",
    "with open(fp) as f:\n",
    "    surveys = [l.split(' ')[0] for l in f]\n",
    "print('%s surveys found' % len(surveys))"
   ]
  },
  {
   "cell_type": "code",
   "execution_count": 75,
   "metadata": {},
   "outputs": [
    {
     "name": "stdout",
     "output_type": "stream",
     "text": [
      "Found 207 matching indexes\n"
     ]
    }
   ],
   "source": [
    "def is_needed_survey(u):\n",
    "    return any([s in u for s in surveys])\n",
    "\n",
    "survey_indexes = [u for u in all_index_links if is_needed_survey(u)]\n",
    "print('Found %s matching indexes' % len(survey_indexes))"
   ]
  },
  {
   "cell_type": "code",
   "execution_count": 86,
   "metadata": {
    "scrolled": true
   },
   "outputs": [],
   "source": [
    "# Collect file links from all of the needed survey indexes\n",
    "survey_htmls = [session.get(u) for u in survey_indexes]\n",
    "voyage_data = [l for u in survey_htmls for l in u.html.absolute_links]"
   ]
  },
  {
   "cell_type": "code",
   "execution_count": 129,
   "metadata": {},
   "outputs": [
    {
     "data": {
      "text/plain": [
       "55299"
      ]
     },
     "execution_count": 129,
     "metadata": {},
     "output_type": "execute_result"
    }
   ],
   "source": [
    "len(voyage_data)"
   ]
  },
  {
   "cell_type": "code",
   "execution_count": 132,
   "metadata": {},
   "outputs": [],
   "source": [
    "def get_exts(u):\n",
    "    return u.split('/')[-1].split('.')[1:]\n",
    "\n",
    "def get_mb_type(exts):\n",
    "    for e in exts:\n",
    "        if 'mb' in e:\n",
    "            return e\n",
    "    return None\n",
    "\n",
    "def is_mb(u):\n",
    "    return any(['mb' in e for e in get_exts(u)])\n",
    "        \n",
    "def is_acc_ext(u, acc_exts):\n",
    "    return any([e in acc_exts for e in get_exts(u)])"
   ]
  },
  {
   "cell_type": "code",
   "execution_count": 140,
   "metadata": {
    "scrolled": false
   },
   "outputs": [],
   "source": [
    "acc_non_mb_exts = ['xyz', 'xyb', 'bag', 'ascii']\n",
    "dl_links = [l for l in voyage_data if is_acc_ext(l, acc_non_mb_exts) or is_mb(l)]\n",
    "o_fp = r'C:\\Users\\tristan.sebens\\Documents\\surveys\\dl_links.txt'\n",
    "with open(o_fp, 'w') as f:\n",
    "    [f.write(l + '\\n') for l in dl_links]"
   ]
  },
  {
   "cell_type": "code",
   "execution_count": 157,
   "metadata": {},
   "outputs": [
    {
     "ename": "TypeError",
     "evalue": "__init__() got an unexpected keyword argument 'fields'",
     "output_type": "error",
     "traceback": [
      "\u001b[1;31m---------------------------------------------------------------------------\u001b[0m",
      "\u001b[1;31mTypeError\u001b[0m                                 Traceback (most recent call last)",
      "\u001b[1;32m<ipython-input-157-5f07a1d57fba>\u001b[0m in \u001b[0;36m<module>\u001b[1;34m\u001b[0m\n\u001b[0;32m      1\u001b[0m \u001b[1;31m# Determine total size of selected files\u001b[0m\u001b[1;33m\u001b[0m\u001b[1;33m\u001b[0m\u001b[1;33m\u001b[0m\u001b[0m\n\u001b[1;32m----> 2\u001b[1;33m \u001b[0ms\u001b[0m \u001b[1;33m=\u001b[0m \u001b[0mpd\u001b[0m\u001b[1;33m.\u001b[0m\u001b[0mDataFrame\u001b[0m\u001b[1;33m(\u001b[0m\u001b[0mdl_links\u001b[0m\u001b[1;33m,\u001b[0m \u001b[0mfields\u001b[0m\u001b[1;33m=\u001b[0m\u001b[1;33m[\u001b[0m\u001b[1;34m'url'\u001b[0m\u001b[1;33m]\u001b[0m\u001b[1;33m)\u001b[0m\u001b[1;33m\u001b[0m\u001b[1;33m\u001b[0m\u001b[0m\n\u001b[0m\u001b[0;32m      3\u001b[0m \u001b[0ms\u001b[0m\u001b[1;33m\u001b[0m\u001b[1;33m\u001b[0m\u001b[0m\n\u001b[0;32m      4\u001b[0m \u001b[1;31m# headers = [requests.head(u) for u in dl_links]\u001b[0m\u001b[1;33m\u001b[0m\u001b[1;33m\u001b[0m\u001b[1;33m\u001b[0m\u001b[0m\n",
      "\u001b[1;31mTypeError\u001b[0m: __init__() got an unexpected keyword argument 'fields'"
     ]
    }
   ],
   "source": [
    "# Determine total size of selected files\n",
    "s = pd.DataFrame(dl_links, columns=['url',])\n",
    "\n",
    "# headers = [requests.head(u) for u in dl_links]\n"
   ]
  },
  {
   "cell_type": "code",
   "execution_count": null,
   "metadata": {},
   "outputs": [],
   "source": [
    "print('Expected size on disk: %s GB' % total_size / 1073741824)"
   ]
  }
 ],
 "metadata": {
  "kernelspec": {
   "display_name": "Python 3",
   "language": "python",
   "name": "python3"
  },
  "language_info": {
   "codemirror_mode": {
    "name": "ipython",
    "version": 3
   },
   "file_extension": ".py",
   "mimetype": "text/x-python",
   "name": "python",
   "nbconvert_exporter": "python",
   "pygments_lexer": "ipython3",
   "version": "3.7.2"
  }
 },
 "nbformat": 4,
 "nbformat_minor": 2
}
