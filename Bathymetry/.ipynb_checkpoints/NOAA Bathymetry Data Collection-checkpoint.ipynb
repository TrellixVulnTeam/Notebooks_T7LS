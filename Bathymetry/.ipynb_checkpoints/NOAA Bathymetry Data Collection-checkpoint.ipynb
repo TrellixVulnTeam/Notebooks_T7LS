{
 "cells": [
  {
   "cell_type": "code",
   "execution_count": 1,
   "metadata": {},
   "outputs": [],
   "source": [
    "# Collect all bathymetry data download URLS from the NCEI website"
   ]
  },
  {
   "cell_type": "code",
   "execution_count": 1,
   "metadata": {},
   "outputs": [],
   "source": [
    "import requests\n",
    "from requests_html import HTMLSession\n",
    "import pandas as pd\n",
    "from html.parser import HTMLParser\n",
    "import os.path\n",
    "import re\n",
    "import random"
   ]
  },
  {
   "cell_type": "code",
   "execution_count": 3,
   "metadata": {},
   "outputs": [
    {
     "name": "stdout",
     "output_type": "stream",
     "text": [
      "4197 indices found\n"
     ]
    }
   ],
   "source": [
    "# Collect and retrieve all of the urls for the various MB voyage indices\n",
    "base = r'https://www.ngdc.noaa.gov/ships/'\n",
    "session = HTMLSession()\n",
    "b = session.get(base)\n",
    "ships = [session.get(u) for u in b.html.absolute_links]\n",
    "all_voyage_index_links = [l for c in ships for l in c.html.absolute_links ] \n",
    "print('%s indices found' % len(all_voyage_index_links))"
   ]
  },
  {
   "cell_type": "code",
   "execution_count": 5,
   "metadata": {},
   "outputs": [
    {
     "name": "stdout",
     "output_type": "stream",
     "text": [
      "18447 indices found\n"
     ]
    }
   ],
   "source": [
    "# Collect and retrieve all of the urls for the various bag voyage indices\n",
    "base = r'https://www.ngdc.noaa.gov/nos/'\n",
    "session = HTMLSession()\n",
    "b = session.get(base)\n",
    "ships = [session.get(u) for u in b.html.absolute_links]\n",
    "all_nos_index_links = [l for c in ships for l in c.html.absolute_links ] \n",
    "print('%s indices found' % len(all_nos_index_links))"
   ]
  },
  {
   "cell_type": "code",
   "execution_count": 6,
   "metadata": {},
   "outputs": [],
   "source": [
    "all_index_links = all_voyage_index_links + all_nos_index_links"
   ]
  },
  {
   "cell_type": "code",
   "execution_count": 7,
   "metadata": {},
   "outputs": [
    {
     "name": "stdout",
     "output_type": "stream",
     "text": [
      "255 surveys found\n"
     ]
    }
   ],
   "source": [
    "# Collect the surveys listed by the bathymetric data viewer\n",
    "fp = r'C:\\Users\\tristan.sebens\\Documents\\surveys\\survey_names.txt'\n",
    "with open(fp) as f:\n",
    "    surveys = [l.split(' ')[0] for l in f]\n",
    "print('%s surveys found' % len(surveys))"
   ]
  },
  {
   "cell_type": "code",
   "execution_count": 8,
   "metadata": {},
   "outputs": [
    {
     "name": "stdout",
     "output_type": "stream",
     "text": [
      "Found 207 matching indexes\n"
     ]
    }
   ],
   "source": [
    "# Filter out the indexes of the voyages we don't need\n",
    "def is_needed_survey(u):\n",
    "    return any([s in u for s in surveys])\n",
    "\n",
    "survey_indexes = [u for u in all_index_links if is_needed_survey(u)]\n",
    "print('Found %s matching indexes' % len(survey_indexes))"
   ]
  },
  {
   "cell_type": "code",
   "execution_count": 9,
   "metadata": {
    "scrolled": true
   },
   "outputs": [],
   "source": [
    "# Collect file links from all of the needed survey indexes\n",
    "survey_htmls = [session.get(u) for u in survey_indexes]\n",
    "voyage_data = [l for u in survey_htmls for l in u.html.absolute_links]"
   ]
  },
  {
   "cell_type": "code",
   "execution_count": null,
   "metadata": {},
   "outputs": [],
   "source": [
    "len(voyage_data)"
   ]
  },
  {
   "cell_type": "code",
   "execution_count": null,
   "metadata": {},
   "outputs": [],
   "source": [
    "def get_exts(u):\n",
    "    return u.split('/')[-1].split('.')[1:]\n",
    "\n",
    "def is_type(u, t):\n",
    "    return t in get_exts(u)\n",
    "\n",
    "def get_mb_type(exts):\n",
    "    for e in exts:\n",
    "        if 'mb' in e:\n",
    "            return e\n",
    "    return None\n",
    "\n",
    "def is_mb(u):\n",
    "    return any(['mb' in e for e in get_exts(u)])\n",
    "\n",
    "def is_xyz(u):\n",
    "    return is_type(u, 'xyz')\n",
    "\n",
    "def is_xml(u):\n",
    "    return is_type(u, 'xml')\n",
    "        \n",
    "def is_acc_ext(u, acc_exts):\n",
    "    return any([e in acc_exts for e in get_exts(u)])"
   ]
  },
  {
   "cell_type": "code",
   "execution_count": null,
   "metadata": {
    "scrolled": false
   },
   "outputs": [],
   "source": [
    "acc_non_mb_exts = ['xyz', 'xyb', 'bag', 'ascii', 'xml']\n",
    "dl_links = [l for l in voyage_data if is_acc_ext(l, acc_non_mb_exts) or is_mb(l)]\n",
    "o_fp = r'C:\\Users\\tristan.sebens\\Documents\\surveys\\dl_links.txt'\n",
    "with open(o_fp, 'w') as f:\n",
    "    [f.write(l + '\\n') for l in dl_links]"
   ]
  },
  {
   "cell_type": "code",
   "execution_count": null,
   "metadata": {},
   "outputs": [],
   "source": [
    "# Determine total size of selected files\n",
    "s = pd.DataFrame(dl_links, columns=['url',])"
   ]
  },
  {
   "cell_type": "code",
   "execution_count": null,
   "metadata": {},
   "outputs": [],
   "source": [
    "s.iloc[100]['url']\n"
   ]
  },
  {
   "cell_type": "code",
   "execution_count": null,
   "metadata": {},
   "outputs": [],
   "source": [
    "# Populate the size field of the data files\n",
    "def get_size(row):\n",
    "    try:\n",
    "        return requests.head(row['url']).headers['content-length']\n",
    "    except: \n",
    "        return -1\n",
    "    \n",
    "s['size'] = s.apply(lambda row: get_size(row), axis=1)"
   ]
  },
  {
   "cell_type": "code",
   "execution_count": null,
   "metadata": {},
   "outputs": [],
   "source": [
    "s"
   ]
  },
  {
   "cell_type": "code",
   "execution_count": null,
   "metadata": {},
   "outputs": [],
   "source": [
    "print('Expected size on disk: %s GB' % total_size / 1073741824)"
   ]
  },
  {
   "cell_type": "code",
   "execution_count": null,
   "metadata": {},
   "outputs": [],
   "source": []
  }
 ],
 "metadata": {
  "kernelspec": {
   "display_name": "Python 3",
   "language": "python",
   "name": "python3"
  },
  "language_info": {
   "codemirror_mode": {
    "name": "ipython",
    "version": 3
   },
   "file_extension": ".py",
   "mimetype": "text/x-python",
   "name": "python",
   "nbconvert_exporter": "python",
   "pygments_lexer": "ipython3",
   "version": "3.7.2"
  }
 },
 "nbformat": 4,
 "nbformat_minor": 2
}
